{
 "cells": [
  {
   "cell_type": "markdown",
   "metadata": {},
   "source": [
    "# Beehive Sensor Data Anylsis\n",
    "- Processing the raw bee date to a clean data set for furhter consumption"
   ]
  },
  {
   "cell_type": "code",
   "execution_count": 35,
   "metadata": {},
   "outputs": [],
   "source": [
    "import numpy as np\n",
    "import pandas as pd\n",
    "import matplotlib.pyplot as plt\n",
    "import matplotlib.dates as mdates\n",
    "from hampel import hampel"
   ]
  },
  {
   "cell_type": "markdown",
   "metadata": {},
   "source": [
    "Load Data"
   ]
  },
  {
   "cell_type": "code",
   "execution_count": 36,
   "metadata": {},
   "outputs": [
    {
     "name": "stdout",
     "output_type": "stream",
     "text": [
      "created_at     object\n",
      "entry_id        int64\n",
      "field1         object\n",
      "field2        float64\n",
      "field3         object\n",
      "latitude      float64\n",
      "longitude     float64\n",
      "elevation     float64\n",
      "status        float64\n",
      "dtype: object\n"
     ]
    },
    {
     "name": "stderr",
     "output_type": "stream",
     "text": [
      "C:\\Users\\timwy\\AppData\\Local\\Temp\\ipykernel_7628\\4258313334.py:1: DtypeWarning: Columns (2,4) have mixed types. Specify dtype option on import or set low_memory=False.\n",
      "  data = pd.read_csv(\".streamlit/24-09-21_beehive.csv\")\n"
     ]
    },
    {
     "data": {
      "text/html": [
       "<div>\n",
       "<style scoped>\n",
       "    .dataframe tbody tr th:only-of-type {\n",
       "        vertical-align: middle;\n",
       "    }\n",
       "\n",
       "    .dataframe tbody tr th {\n",
       "        vertical-align: top;\n",
       "    }\n",
       "\n",
       "    .dataframe thead th {\n",
       "        text-align: right;\n",
       "    }\n",
       "</style>\n",
       "<table border=\"1\" class=\"dataframe\">\n",
       "  <thead>\n",
       "    <tr style=\"text-align: right;\">\n",
       "      <th></th>\n",
       "      <th>created_at</th>\n",
       "      <th>entry_id</th>\n",
       "      <th>field1</th>\n",
       "      <th>field2</th>\n",
       "      <th>field3</th>\n",
       "      <th>latitude</th>\n",
       "      <th>longitude</th>\n",
       "      <th>elevation</th>\n",
       "      <th>status</th>\n",
       "    </tr>\n",
       "  </thead>\n",
       "  <tbody>\n",
       "    <tr>\n",
       "      <th>0</th>\n",
       "      <td>2020-10-14T17:03:37+02:00</td>\n",
       "      <td>1</td>\n",
       "      <td>49.63</td>\n",
       "      <td>78.0</td>\n",
       "      <td>13.1</td>\n",
       "      <td>NaN</td>\n",
       "      <td>NaN</td>\n",
       "      <td>NaN</td>\n",
       "      <td>NaN</td>\n",
       "    </tr>\n",
       "    <tr>\n",
       "      <th>1</th>\n",
       "      <td>2020-10-14T17:13:41+02:00</td>\n",
       "      <td>2</td>\n",
       "      <td>49.77</td>\n",
       "      <td>95.0</td>\n",
       "      <td>20.3</td>\n",
       "      <td>NaN</td>\n",
       "      <td>NaN</td>\n",
       "      <td>NaN</td>\n",
       "      <td>NaN</td>\n",
       "    </tr>\n",
       "    <tr>\n",
       "      <th>2</th>\n",
       "      <td>2020-10-14T17:23:45+02:00</td>\n",
       "      <td>3</td>\n",
       "      <td>49.79</td>\n",
       "      <td>95.0</td>\n",
       "      <td>23.1</td>\n",
       "      <td>NaN</td>\n",
       "      <td>NaN</td>\n",
       "      <td>NaN</td>\n",
       "      <td>NaN</td>\n",
       "    </tr>\n",
       "    <tr>\n",
       "      <th>3</th>\n",
       "      <td>2020-10-14T17:33:49+02:00</td>\n",
       "      <td>4</td>\n",
       "      <td>49.78</td>\n",
       "      <td>86.0</td>\n",
       "      <td>23.4</td>\n",
       "      <td>NaN</td>\n",
       "      <td>NaN</td>\n",
       "      <td>NaN</td>\n",
       "      <td>NaN</td>\n",
       "    </tr>\n",
       "    <tr>\n",
       "      <th>4</th>\n",
       "      <td>2020-10-14T17:43:53+02:00</td>\n",
       "      <td>5</td>\n",
       "      <td>49.77</td>\n",
       "      <td>79.0</td>\n",
       "      <td>23.5</td>\n",
       "      <td>NaN</td>\n",
       "      <td>NaN</td>\n",
       "      <td>NaN</td>\n",
       "      <td>NaN</td>\n",
       "    </tr>\n",
       "    <tr>\n",
       "      <th>...</th>\n",
       "      <td>...</td>\n",
       "      <td>...</td>\n",
       "      <td>...</td>\n",
       "      <td>...</td>\n",
       "      <td>...</td>\n",
       "      <td>...</td>\n",
       "      <td>...</td>\n",
       "      <td>...</td>\n",
       "      <td>...</td>\n",
       "    </tr>\n",
       "    <tr>\n",
       "      <th>172759</th>\n",
       "      <td>2024-09-21T18:42:14+02:00</td>\n",
       "      <td>172760</td>\n",
       "      <td>42.73</td>\n",
       "      <td>75.0</td>\n",
       "      <td>28.90</td>\n",
       "      <td>NaN</td>\n",
       "      <td>NaN</td>\n",
       "      <td>NaN</td>\n",
       "      <td>NaN</td>\n",
       "    </tr>\n",
       "    <tr>\n",
       "      <th>172760</th>\n",
       "      <td>2024-09-21T18:52:15+02:00</td>\n",
       "      <td>172761</td>\n",
       "      <td>42.73</td>\n",
       "      <td>75.0</td>\n",
       "      <td>28.90</td>\n",
       "      <td>NaN</td>\n",
       "      <td>NaN</td>\n",
       "      <td>NaN</td>\n",
       "      <td>NaN</td>\n",
       "    </tr>\n",
       "    <tr>\n",
       "      <th>172761</th>\n",
       "      <td>2024-09-21T19:02:17+02:00</td>\n",
       "      <td>172762</td>\n",
       "      <td>42.73</td>\n",
       "      <td>75.0</td>\n",
       "      <td>28.80</td>\n",
       "      <td>NaN</td>\n",
       "      <td>NaN</td>\n",
       "      <td>NaN</td>\n",
       "      <td>NaN</td>\n",
       "    </tr>\n",
       "    <tr>\n",
       "      <th>172762</th>\n",
       "      <td>2024-09-21T19:12:18+02:00</td>\n",
       "      <td>172763</td>\n",
       "      <td>42.73</td>\n",
       "      <td>75.0</td>\n",
       "      <td>28.80</td>\n",
       "      <td>NaN</td>\n",
       "      <td>NaN</td>\n",
       "      <td>NaN</td>\n",
       "      <td>NaN</td>\n",
       "    </tr>\n",
       "    <tr>\n",
       "      <th>172763</th>\n",
       "      <td>2024-09-21T19:22:20+02:00</td>\n",
       "      <td>172764</td>\n",
       "      <td>42.74</td>\n",
       "      <td>75.0</td>\n",
       "      <td>28.80</td>\n",
       "      <td>NaN</td>\n",
       "      <td>NaN</td>\n",
       "      <td>NaN</td>\n",
       "      <td>NaN</td>\n",
       "    </tr>\n",
       "  </tbody>\n",
       "</table>\n",
       "<p>172764 rows × 9 columns</p>\n",
       "</div>"
      ],
      "text/plain": [
       "                       created_at  entry_id field1  field2 field3  latitude  \\\n",
       "0       2020-10-14T17:03:37+02:00         1  49.63    78.0   13.1       NaN   \n",
       "1       2020-10-14T17:13:41+02:00         2  49.77    95.0   20.3       NaN   \n",
       "2       2020-10-14T17:23:45+02:00         3  49.79    95.0   23.1       NaN   \n",
       "3       2020-10-14T17:33:49+02:00         4  49.78    86.0   23.4       NaN   \n",
       "4       2020-10-14T17:43:53+02:00         5  49.77    79.0   23.5       NaN   \n",
       "...                           ...       ...    ...     ...    ...       ...   \n",
       "172759  2024-09-21T18:42:14+02:00    172760  42.73    75.0  28.90       NaN   \n",
       "172760  2024-09-21T18:52:15+02:00    172761  42.73    75.0  28.90       NaN   \n",
       "172761  2024-09-21T19:02:17+02:00    172762  42.73    75.0  28.80       NaN   \n",
       "172762  2024-09-21T19:12:18+02:00    172763  42.73    75.0  28.80       NaN   \n",
       "172763  2024-09-21T19:22:20+02:00    172764  42.74    75.0  28.80       NaN   \n",
       "\n",
       "        longitude  elevation  status  \n",
       "0             NaN        NaN     NaN  \n",
       "1             NaN        NaN     NaN  \n",
       "2             NaN        NaN     NaN  \n",
       "3             NaN        NaN     NaN  \n",
       "4             NaN        NaN     NaN  \n",
       "...           ...        ...     ...  \n",
       "172759        NaN        NaN     NaN  \n",
       "172760        NaN        NaN     NaN  \n",
       "172761        NaN        NaN     NaN  \n",
       "172762        NaN        NaN     NaN  \n",
       "172763        NaN        NaN     NaN  \n",
       "\n",
       "[172764 rows x 9 columns]"
      ]
     },
     "execution_count": 36,
     "metadata": {},
     "output_type": "execute_result"
    }
   ],
   "source": [
    "data = pd.read_csv(\".streamlit/24-09-21_beehive.csv\")\n",
    "print(data.dtypes)\n",
    "data"
   ]
  },
  {
   "cell_type": "markdown",
   "metadata": {},
   "source": [
    "## Preprocessing"
   ]
  },
  {
   "cell_type": "code",
   "execution_count": 37,
   "metadata": {},
   "outputs": [],
   "source": [
    "columns_to_drop =[\"latitude\", \"longitude\", \"elevation\", \"status\"] # List of column names to drop\n",
    "data.drop(columns=columns_to_drop, inplace=True)\n",
    "\n",
    "# Rename columns\n",
    "data.rename(columns={'field1': 'weight', 'field2': 'temperature', 'field3': 'humidity'}, inplace=True)"
   ]
  },
  {
   "cell_type": "code",
   "execution_count": 38,
   "metadata": {},
   "outputs": [
    {
     "name": "stdout",
     "output_type": "stream",
     "text": [
      "Empty DataFrame\n",
      "Columns: [created_at, entry_id, weight, temperature, humidity]\n",
      "Index: []\n"
     ]
    }
   ],
   "source": [
    "#CASTING\n",
    "# Convert string column to datetime\n",
    "data['created_at'] = pd.to_datetime(data['created_at'], format='%Y-%m-%dT%H:%M:%S%z', errors='coerce', utc=True)\n",
    "print(data[data['created_at'].isna()])\n",
    "\n",
    "# Extract the year and create a new column\n",
    "data['year'] = data['created_at'].dt.year\n",
    "data['month'] = data['created_at'].dt.month\n",
    "data['day'] = data['created_at'].dt.day\n",
    "# Concatenate 'month' and 'day' into a single column\n",
    "data['month_day'] = data['created_at'].dt.strftime('%m-%d')\n",
    "\n",
    "# Remove rows where 'weight' is equal to \"~\"\n",
    "data = data[data['weight'] != \"~\"]\n",
    "# Convert 'weight' column to float\n",
    "data.loc[:, 'weight'] = data['weight'].astype(float)\n",
    "data = data[data['weight'] >= 0]\n",
    "\n"
   ]
  },
  {
   "cell_type": "markdown",
   "metadata": {},
   "source": [
    "## Hampel Filtering"
   ]
  },
  {
   "cell_type": "code",
   "execution_count": 39,
   "metadata": {},
   "outputs": [],
   "source": [
    "data.set_index('created_at', inplace=True)\n",
    "# Apply the Hampel filter\n",
    "WINDOW_SIZE = 144 # 10 min/datapoint | 6 datapoint/hour | 144 datapoints/day\n",
    "result = hampel(data['weight'], window_size=WINDOW_SIZE, n_sigma=3.0)\n",
    "\n",
    "data_weight_filtered = result.filtered_data\n",
    "outlier_indices = result.outlier_indices\n",
    "medians = result.medians\n",
    "mad_values = result.median_absolute_deviations\n",
    "thresholds = result.thresholds\n",
    "print(data_weight_filtered)\n",
    "\n"
   ]
  },
  {
   "cell_type": "markdown",
   "metadata": {},
   "source": [
    "# Save Silver version (cleaned data set)"
   ]
  },
  {
   "cell_type": "code",
   "execution_count": 33,
   "metadata": {},
   "outputs": [
    {
     "data": {
      "image/png": "[encoded data removed]",
      "text/plain": [
       "<Figure size 800x600 with 2 Axes>"
      ]
     },
     "metadata": {},
     "output_type": "display_data"
    }
   ],
   "source": [
    "fig, axes = plt.subplots(2, 1, figsize=(8, 6))\n",
    "index_start = 150000\n",
    "\n",
    "# Plot the original data with estimated standard deviations in the first subplot\n",
    "axes[0].plot(data['weight'].iloc[index_start:], label='Original Data', color='b')\n",
    "\n",
    "# Optionally fill the area between the bands (commented out in your code)\n",
    "# axes[0].fill_between(data['date'].iloc[index_start:], medians + thresholds, medians - thresholds, color='gray', alpha=0.5, label='Median +- Threshold')\n",
    "\n",
    "axes[0].set_xlabel('Date')\n",
    "axes[0].set_ylabel('Weight')\n",
    "axes[0].set_title('Original Data with Bands representing Upper and Lower limits')\n",
    "\n",
    "# Format the x-axis to display dates nicely\n",
    "axes[0].xaxis.set_major_formatter(mdates.DateFormatter('%Y-%m-%d'))\n",
    "axes[0].xaxis.set_major_locator(mdates.AutoDateLocator())\n",
    "\n",
    "# Rotate the date labels for better readability\n",
    "plt.setp(axes[0].get_xticklabels(), rotation=45, ha='right')\n",
    "\n",
    "axes[0].legend()\n",
    "\n",
    "# Plot the filtered data in the second subplot\n",
    "axes[1].plot(data_weight_filtered.iloc[index_start:], label='Filtered Data', color='g')\n",
    "axes[1].set_xlabel('Data Point')\n",
    "axes[1].set_ylabel('Value')\n",
    "axes[1].set_title('Filtered Data')\n",
    "axes[1].legend()\n",
    "\n",
    "# Adjust spacing between subplots\n",
    "plt.tight_layout()\n",
    "\n",
    "# Show the plots\n",
    "plt.show()"
   ]
  },
  {
   "cell_type": "markdown",
   "metadata": {},
   "source": [
    "add filterd weight data back to original data set and change index"
   ]
  },
  {
   "cell_type": "code",
   "execution_count": 34,
   "metadata": {},
   "outputs": [
    {
     "data": {
      "text/plain": [
       "0         49.630001\n",
       "1         49.770000\n",
       "2         49.790001\n",
       "3         49.779999\n",
       "4         49.770000\n",
       "            ...    \n",
       "170768    42.730000\n",
       "170769    42.730000\n",
       "170770    42.730000\n",
       "170771    42.730000\n",
       "170772    42.740002\n",
       "Length: 170773, dtype: float32"
      ]
     },
     "metadata": {},
     "output_type": "display_data"
    }
   ],
   "source": [
    "data_weight_filtered.index = data.index\n",
    "data['weight_cleaned'] = data_weight_filtered\n",
    "\n",
    "data = data.reset_index()\n",
    "data\n"
   ]
  },
  {
   "cell_type": "code",
   "execution_count": 21,
   "metadata": {},
   "outputs": [],
   "source": [
    "# Saving the DataFrame to a CSV file\n",
    "data.to_csv('.streamlit/24-09-21_beehive_cleaned.csv', index=False)"
   ]
  }
 ],
 "metadata": {
  "kernelspec": {
   "display_name": ".venv",
   "language": "python",
   "name": "python3"
  },
  "language_info": {
   "codemirror_mode": {
    "name": "ipython",
    "version": 3
   },
   "file_extension": ".py",
   "mimetype": "text/x-python",
   "name": "python",
   "nbconvert_exporter": "python",
   "pygments_lexer": "ipython3",
   "version": "3.9.16"
  }
 },
 "nbformat": 4,
 "nbformat_minor": 2
}
